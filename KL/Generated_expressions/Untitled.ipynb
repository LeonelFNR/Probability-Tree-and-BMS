{
 "cells": [
  {
   "cell_type": "code",
   "execution_count": 18,
   "id": "721395c5-1418-4394-9b3b-740a03743966",
   "metadata": {},
   "outputs": [],
   "source": [
    "##function that filters all the expressiosn from file 2 that already appeared in file 1\n",
    "\n",
    "def filter(file1, file2):\n",
    "    expressions1 = set()\n",
    "    with open(file1, \"r\", encoding = 'utf-8') as f1:\n",
    "        for line in f1:      \n",
    "            expressions1.add(line.strip())\n",
    "\n",
    "    with open(file2, \"r\", encoding = 'utf-8') as f2:\n",
    "        filtered = [line for line in f2 if line.strip() not in expressions1]\n",
    "    #rewrite results in f2\n",
    "    with open(file2, \"w\", encoding = 'utf-8') as f2:\n",
    "        f2.writelines(filtered)\n",
    "    \n",
    "    "
   ]
  },
  {
   "cell_type": "code",
   "execution_count": 25,
   "id": "a43c5127-7c32-4154-aba3-e5dd8de628d1",
   "metadata": {},
   "outputs": [],
   "source": [
    "file_v1 = \"./BMS_With_prior_nv2_np20.txt_GREEDY_Expressions\"\n",
    "file_v2 = \"./BMS_With_prior_nv2_np20.txt_GREEDY_Expressions_v2\""
   ]
  },
  {
   "cell_type": "code",
   "execution_count": 26,
   "id": "1f6119b7-4ac8-40b9-969b-3152d7480a10",
   "metadata": {},
   "outputs": [],
   "source": [
    "expressions = filter(file1 = file_v1, file2 = file_v2)"
   ]
  },
  {
   "cell_type": "code",
   "execution_count": null,
   "id": "e1c7b07c-b13a-4f13-8964-c7ad0d1e66a8",
   "metadata": {},
   "outputs": [],
   "source": []
  }
 ],
 "metadata": {
  "kernelspec": {
   "display_name": "Python 3 (ipykernel)",
   "language": "python",
   "name": "python3"
  },
  "language_info": {
   "codemirror_mode": {
    "name": "ipython",
    "version": 3
   },
   "file_extension": ".py",
   "mimetype": "text/x-python",
   "name": "python",
   "nbconvert_exporter": "python",
   "pygments_lexer": "ipython3",
   "version": "3.10.12"
  }
 },
 "nbformat": 4,
 "nbformat_minor": 5
}
