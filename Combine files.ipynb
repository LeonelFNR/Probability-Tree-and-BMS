{
 "cells": [
  {
   "cell_type": "code",
   "execution_count": 2,
   "id": "6aa1850f-cc0a-4652-b053-00193b22843d",
   "metadata": {},
   "outputs": [],
   "source": [
    "import sys\n",
    "import numpy as np \n",
    "import pandas as pd\n",
    "import warnings\n",
    "import sympy \n",
    "import matplotlib as plt\n",
    "warnings.filterwarnings('ignore')\n",
    "\n",
    "from copy import deepcopy\n",
    "from ipywidgets import IntProgress\n",
    "from IPython.display import display\n",
    "\n",
    "sys.path.append('./')\n",
    "sys.path.append('./Prior/')\n",
    "from mcmc import *\n",
    "from parallel import *\n",
    "from fit_prior import read_prior_par\n",
    "\n",
    "#File related libraries\n",
    "from expression_writter import *\n",
    "\n",
    "#Writing files libraries\n",
    "import re\n",
    "from file_creator import *\n",
    "import os\n",
    "import pickle"
   ]
  },
  {
   "cell_type": "code",
   "execution_count": 3,
   "id": "5c0575af-f6a1-451f-903d-c8ca1b874643",
   "metadata": {},
   "outputs": [],
   "source": [
    "file1 = \"./New_Experiment/Prob_Comparison_sin(x**2)*cos(x) - 0.75.csv\"\n",
    "file2 = \"./Results_Leo/Filtered_Datasets/Filetered_ sin(x**2)*cos(x) - 0.75_nv1_np10_mean0_stddev0.1.txt\""
   ]
  },
  {
   "cell_type": "code",
   "execution_count": 4,
   "id": "04a7e2ac-bd9e-4fe4-a4e8-ed8a2317388d",
   "metadata": {},
   "outputs": [],
   "source": [
    "df1 = pd.read_csv(file1)\n",
    "energies = df1[\"bms_E\"].round(3).values"
   ]
  },
  {
   "cell_type": "code",
   "execution_count": 5,
   "id": "eddfc05c-e3a3-4fe4-a2ae-fbce4442a79e",
   "metadata": {},
   "outputs": [
    {
     "data": {
      "text/plain": [
       "array([31.645, 41.909, 54.011, ..., 24.929, 43.257, 18.474])"
      ]
     },
     "execution_count": 5,
     "metadata": {},
     "output_type": "execute_result"
    }
   ],
   "source": [
    "energies"
   ]
  },
  {
   "cell_type": "code",
   "execution_count": 6,
   "id": "616bde3a-4f1c-4d89-be30-2af4ff74ce0c",
   "metadata": {},
   "outputs": [],
   "source": [
    "XLABS = ['x']\n",
    "parameters = ['_a%d_' % i for i in range(10)]\n",
    "#creating empty tree and probtree\n",
    "model = Tree(\n",
    "    variables = XLABS,\n",
    "    parameters = parameters,\n",
    ")\n",
    "\n",
    "Arbre_prob = ProbTree(\n",
    "    tree = model,\n",
    ")"
   ]
  },
  {
   "cell_type": "code",
   "execution_count": 7,
   "id": "b649f9b2-bc60-4f43-b091-f6f97d3887df",
   "metadata": {},
   "outputs": [
    {
     "data": {
      "text/plain": [
       "(16833, 3)"
      ]
     },
     "execution_count": 7,
     "metadata": {},
     "output_type": "execute_result"
    }
   ],
   "source": [
    "df1.shape"
   ]
  },
  {
   "cell_type": "code",
   "execution_count": 8,
   "id": "0b76beb3-8e93-4984-ac85-4d74ac62bf62",
   "metadata": {},
   "outputs": [],
   "source": [
    "with open(file2, 'r') as f:\n",
    "    for line in f:\n",
    "        parts = line.split(\"||\")\n",
    "        energy, expression = float(parts[0]), parts[1].strip()\n",
    "\n",
    "        if energy not in energies:\n",
    "            df1.loc[len(df1)] = [energy, -np.log(Arbre_prob.prob_expression(expression)), expression]\n",
    "            energies = np.append(energies, energy)"
   ]
  },
  {
   "cell_type": "code",
   "execution_count": 9,
   "id": "6e06f7c5-33bf-4525-b1d5-67b8503827cc",
   "metadata": {},
   "outputs": [
    {
     "data": {
      "text/plain": [
       "(17808, 3)"
      ]
     },
     "execution_count": 9,
     "metadata": {},
     "output_type": "execute_result"
    }
   ],
   "source": [
    "df1.shape"
   ]
  },
  {
   "cell_type": "code",
   "execution_count": 10,
   "id": "43220c04-d8bf-4fee-97b7-724ce030110e",
   "metadata": {},
   "outputs": [],
   "source": [
    "#guardem df a ubicació definitiva\n",
    "df1.to_csv(\"./New_Experiment/Training_Datasets/Prob_Comparison_sin(x**2)*cos(x) - 0.75.csv\", index = False)"
   ]
  },
  {
   "cell_type": "code",
   "execution_count": null,
   "id": "cec8468f-97dd-48b6-9bdb-94a257004cdf",
   "metadata": {},
   "outputs": [],
   "source": []
  }
 ],
 "metadata": {
  "kernelspec": {
   "display_name": "Python 3 (ipykernel)",
   "language": "python",
   "name": "python3"
  },
  "language_info": {
   "codemirror_mode": {
    "name": "ipython",
    "version": 3
   },
   "file_extension": ".py",
   "mimetype": "text/x-python",
   "name": "python",
   "nbconvert_exporter": "python",
   "pygments_lexer": "ipython3",
   "version": "3.10.12"
  }
 },
 "nbformat": 4,
 "nbformat_minor": 5
}
