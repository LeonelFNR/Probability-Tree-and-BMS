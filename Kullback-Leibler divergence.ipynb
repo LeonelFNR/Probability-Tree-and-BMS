{
 "cells": [
  {
   "cell_type": "markdown",
   "id": "e67d099e-5c46-46a9-9d53-e4573f69cc4e",
   "metadata": {},
   "source": [
    "**Machine Scientist Libraries** and additional libraries"
   ]
  },
  {
   "cell_type": "code",
   "execution_count": 1,
   "id": "30acac8a-62fb-4d2f-9f9d-46471e60ea5c",
   "metadata": {},
   "outputs": [],
   "source": [
    "import sys\n",
    "import numpy as np \n",
    "import pandas as pd\n",
    "import warnings\n",
    "import sympy \n",
    "import matplotlib as plt\n",
    "warnings.filterwarnings('ignore')\n",
    "\n",
    "from copy import deepcopy\n",
    "from ipywidgets import IntProgress\n",
    "from IPython.display import display\n",
    "\n",
    "sys.path.append('./')\n",
    "sys.path.append('./Prior/')\n",
    "from mcmc import *\n",
    "from parallel import *\n",
    "from fit_prior import read_prior_par\n",
    "\n",
    "#File related libraries\n",
    "from expression_writter import *\n",
    "\n",
    "#Writing files libraries\n",
    "import re\n",
    "from file_creator import *\n",
    "import os\n",
    "import pickle\n",
    "import time"
   ]
  },
  {
   "cell_type": "markdown",
   "id": "c9d9d41b-d8f1-47f4-bc3e-cad0a2150bfc",
   "metadata": {},
   "source": [
    "Adding the file of a function to be studied. Several functions will be repeated and we will only count them onece, so we first have to filter that."
   ]
  },
  {
   "cell_type": "code",
   "execution_count": 2,
   "id": "ea25de12-f3b6-46fa-b6cc-9e9d62598a26",
   "metadata": {},
   "outputs": [],
   "source": [
    "filepath = './Results_Leo/ sin(x**2)*cos(x) - 0.75_nv1_np10_mean0_stddev0.1.txt'\n",
    "expressions = set()\n",
    "\n",
    "with open(filepath, 'r') as file:\n",
    "    next(file)\n",
    "    for line in file:\n",
    "        parts = line.split('||')\n",
    "        #parts = line.split(',')\n",
    "        desc_length = float(parts[1])\n",
    "        expression = str(parts[2]).strip()\n",
    "        tuple = (desc_length, expression)\n",
    "        expressions.add(tuple)\n",
    "\n",
    "#create another file where the expressions and desc. length will be written\n",
    "dataFileName = os.path.basename(filepath)\n",
    "newname = f\"Filetered_{dataFileName}\"\n",
    "#newname = \"AAAAPROOOOVA\"\n",
    "folder = \"./Results_Leo/Filtered_Datasets/\"\n",
    "newPath = os.path.join(folder,newname)\n",
    "\n",
    "with open(newPath, 'w') as file:\n",
    "    for elem in expressions:\n",
    "        file.write(f\"{elem[0]}||{elem[1]}\\n\")"
   ]
  },
  {
   "cell_type": "markdown",
   "id": "6f483c0c-a90f-49bf-a846-559aa762dd6e",
   "metadata": {},
   "source": [
    "Variables and parameters config"
   ]
  },
  {
   "cell_type": "code",
   "execution_count": 4,
   "id": "ca260d44-e9e6-407d-a21d-83011afc111b",
   "metadata": {},
   "outputs": [],
   "source": [
    "XLABS = ['x', 'z'] #Change to just x if one variable models\n",
    "parameters = ['_a%d_' % i for i in range(13)]\n",
    "\n",
    "#creating empty tree and probtree\n",
    "model = Tree(\n",
    "    variables = XLABS,\n",
    "    parameters = parameters,\n",
    ")\n",
    "\n",
    "#Probability tree\n",
    "Tree_prob =ProbTree(\n",
    "    tree = model,\n",
    ") \n",
    "\n",
    "#name of the file where the prob_tree will be stored\n",
    "\n",
    "treeStorageFileName = f\"{os.path.basename(filepath)}_GAUSSIAN_STEPS\"\n",
    "location = \"./KL/Probabilty_Trees/GAUSSIAN STEPS/\"\n",
    "objFile = os.path.join(location, treeStorageFileName)\n"
   ]
  },
  {
   "cell_type": "code",
   "execution_count": null,
   "id": "95e41625-7e4b-4882-b9a1-508ca247c568",
   "metadata": {},
   "outputs": [],
   "source": [
    "#Kullback-Leibler Divergence computation\n",
    "def KLDivergence(filepath, probTree):\n",
    "    D = 0\n",
    "    inicio = time.time()\n",
    "    with open(filepath, 'r') as file:\n",
    "        for line in file:\n",
    "            line = line.strip()\n",
    "            parts = line.split('||')\n",
    "            desc_length = float(parts[0])\n",
    "            expression = parts[1]\n",
    "            #generate tree for the expression\n",
    "            exp_tree = Tree(\n",
    "                variables = XLABS,\n",
    "                from_string = expression,\n",
    "            )\n",
    "            exp_tree.parameters = parameters\n",
    "            probTree.tree_change(exp_tree)\n",
    "            exp_prob_tree = probTree.pr_tree()\n",
    "            D += -np.exp(-desc_length)* (desc_length + np.log(exp_prob_tree))\n",
    "        final = time.time()\n",
    "        print(f\"Tiempo de ejecución: {final - inicio:.4f} segundos \\n\")\n",
    "        return D\n",
    "D = KLDivergence(filepath = newPath, probTree = Tree_prob)\n",
    "print(\"Initial KL Divergence: \" + str(D))"
   ]
  },
  {
   "cell_type": "markdown",
   "id": "4ed693e3-85d9-4775-a62e-da3b6a142d8c",
   "metadata": {},
   "source": [
    "### I created a parallelized version that runs a lot faster!"
   ]
  },
  {
   "cell_type": "code",
   "execution_count": null,
   "id": "9c254090-a1cc-4963-89b6-99bfc3890535",
   "metadata": {},
   "outputs": [],
   "source": [
    "import time\n",
    "import multiprocessing as mp\n",
    "from concurrent.futures import ProcessPoolExecutor\n",
    "import itertools\n",
    "\n",
    "# Define the process_batch function at module level\n",
    "def process_batch(args):\n",
    "    batch_lines, probTree, XLABS, parameters = args\n",
    "    batch_results = []\n",
    "    \n",
    "    for line in batch_lines:\n",
    "        line = line.strip()\n",
    "        if not line:\n",
    "            continue\n",
    "            \n",
    "        parts = line.split('||')\n",
    "        if len(parts) < 2:\n",
    "            continue\n",
    "            \n",
    "        desc_length = float(parts[0])\n",
    "        expression = parts[1]\n",
    "        \n",
    "        # Create the tree and compute the probability of the expression\n",
    "        exp_tree = Tree(\n",
    "            variables=XLABS,\n",
    "            from_string=expression,\n",
    "        )\n",
    "        exp_tree.parameters = parameters\n",
    "        probTree.tree_change(exp_tree)\n",
    "        exp_prob_tree = probTree.pr_tree()\n",
    "        \n",
    "        # Compute the contribution to the KL Divergence\n",
    "        contribution = -np.exp(-desc_length) * (desc_length + np.log(exp_prob_tree))\n",
    "        batch_results.append(contribution)\n",
    "    # Vectorization for the final calculation of the batch \n",
    "    if batch_results:\n",
    "        return np.sum(batch_results)\n",
    "    return 0\n",
    "\n",
    "def KLDivergence_optimized(filepath, probTree, XLABS, parameters, n_workers=None, batch_size=1000):\n",
    "    \"\"\"\n",
    "    Optimized calculation version of the KL Divergence.\n",
    "    It implements vectorization, parallelization and optimized reading.\n",
    "    \"\"\"\n",
    "    #inicio = time.time()\n",
    "    \n",
    "    # Determine the number of workers\n",
    "    if n_workers is None:\n",
    "        n_workers = max(1, mp.cpu_count() - 1)  # Dejar un núcleo libre\n",
    "        \n",
    "    # Implementation for parallelization with multiprocessing\n",
    "    def process_file_in_parallel():\n",
    "        # Read whole file\n",
    "        with open(filepath, 'r') as file:\n",
    "            all_lines = file.readlines()\n",
    "            \n",
    "        # Divide the lines in batches for each worker\n",
    "        total_lines = len(all_lines)\n",
    "        worker_batch_size = max(1, total_lines // n_workers)\n",
    "        batches = [all_lines[i:i + worker_batch_size] for i in range(0, total_lines, worker_batch_size)]\n",
    "\n",
    "        # Prepare arguments for each batch\n",
    "        batch_args = [(batch, probTree, XLABS, parameters) for batch in batches]\n",
    "\n",
    "        # Parallel process the batches\n",
    "        D = 0\n",
    "        with ProcessPoolExecutor(max_workers=n_workers) as executor:\n",
    "            results = list(executor.map(process_batch, batch_args))\n",
    "        \n",
    "        # Add the results of the batches\n",
    "        D = sum(results)\n",
    "        \n",
    "        return D, total_lines\n",
    "    \n",
    "    # Execute the parallelized version\n",
    "    D, total_lines = process_file_in_parallel()\n",
    "\n",
    "    '''\n",
    "    final = time.time()\n",
    "    tiempo_ejecucion = final - inicio\n",
    "\n",
    "    # print performance stats\n",
    "    print(f\"Tiempo de ejecución: {tiempo_ejecucion:.4f} segundos\")\n",
    "    print(f\"Líneas procesadas: {total_lines}\")\n",
    "    print(f\"Trabajadores utilizados: {n_workers}\")\n",
    "    print(f\"Velocidad: {total_lines/tiempo_ejecucion:.2f} líneas/segundo\\n\")\n",
    "    '''\n",
    "    \n",
    "    return D\n",
    "\n",
    "# Ejemplo de uso:\n",
    "D = KLDivergence_optimized(filepath=newPath, probTree=Tree_prob, XLABS=XLABS, parameters=parameters)\n",
    "print(\"Initial KL Divergence: \" + str(D))\n",
    "\n"
   ]
  },
  {
   "cell_type": "markdown",
   "id": "b8e1cd9c-1ffa-4b1a-a550-b2b4fd4a51dc",
   "metadata": {},
   "source": [
    "Now, a copy of the current Probability Tree will be walked through and the probabilites of a node chosen at random will be changed (the other probabilites will be accordingly adapted). Then, the KL Divergence will be computed again, and if its value is smaller then the change will be accepted, otherwise rejected."
   ]
  },
  {
   "cell_type": "code",
   "execution_count": null,
   "id": "cfb00804-08ca-477f-84d0-2933a8eaf4a3",
   "metadata": {},
   "outputs": [],
   "source": [
    "##### Kullback-Leibler Divergence random improvement\n",
    "def KL_improve(Tree_prob, D):\n",
    "    Tree_copy = Tree_prob.tree_copy()\n",
    "    Tree_copy.modify_random_prob()\n",
    "    newD = KLDivergence_optimized(filepath=newPath, probTree=Tree_copy, XLABS=XLABS, parameters=parameters)\n",
    "    #newD = KLDivergence(filepath= newPath, probTree=Tree_copy)\n",
    "    if newD < D:\n",
    "        D = newD\n",
    "        Tree_prob = Tree_copy #replace with the better prob tree        \n",
    "    return D, Tree_prob, newD #record all values that are achieved with this procedure, and update the tree in case of improvement       \n"
   ]
  },
  {
   "cell_type": "markdown",
   "id": "7b22c4cc-cd5f-4d51-97dc-71d45c2590de",
   "metadata": {},
   "source": [
    "Files with the evolution of the KL Divergence will be saved and stored in the folder named `KL`."
   ]
  },
  {
   "cell_type": "code",
   "execution_count": 8,
   "id": "66a12828-0dbf-493a-948b-e341fe2efa58",
   "metadata": {
    "editable": true,
    "slideshow": {
     "slide_type": ""
    },
    "tags": []
   },
   "outputs": [
    {
     "data": {
      "application/vnd.jupyter.widget-view+json": {
       "model_id": "46fcb0f45f0544b4b6249e3907db8bf0",
       "version_major": 2,
       "version_minor": 0
      },
      "text/plain": [
       "IntProgress(value=0, description='Running:', max=25000)"
      ]
     },
     "metadata": {},
     "output_type": "display_data"
    },
    {
     "name": "stdout",
     "output_type": "stream",
     "text": [
      "Finished\n"
     ]
    }
   ],
   "source": [
    "filename = os.path.basename(filepath)\n",
    "filename_no_extension = os.path.splitext(filename)[0] #remove the .txt\n",
    "new_filename = f\"KL_{filename_no_extension}_Large_GAUSSIAN_STEPS\"\n",
    "folder = './KL/KL_Evolution/GAUSSIAN STEPS/'\n",
    "new_filepath = os.path.join(folder, new_filename)\n",
    "N = 25000\n",
    "initialD = D\n",
    "\n",
    "with open(new_filepath, 'w') as f:\n",
    "    f.write(f\"{D}\\n\")\n",
    "    bar = IntProgress(min = 0, max = N, description='Running:')\n",
    "    display(bar)\n",
    "    for i in range(0,N):\n",
    "        D, Tree_prob, newD =  KL_improve(Tree_prob = Tree_prob, D = D)\n",
    "        f.write(f\"{newD}\\n\")\n",
    "        bar.value += 1\n",
    "        if i % 1000 == 0:\n",
    "            f.flush()\n",
    "            #Now we add the last probability tree we have\n",
    "            with open(objFile, 'wb') as file:\n",
    "                pickle.dump(Tree_prob, file)\n",
    "\n",
    "print('Finished')"
   ]
  },
  {
   "cell_type": "code",
   "execution_count": 9,
   "id": "0a9a2c40-e907-4b6b-8f28-9f4be6e1778d",
   "metadata": {},
   "outputs": [],
   "source": [
    "#Now we add the last probability tree we have\n",
    "with open(objFile, 'wb') as f:\n",
    "    pickle.dump(Tree_prob, f)"
   ]
  },
  {
   "cell_type": "markdown",
   "id": "e706f3e0-5f3a-46bf-acc4-cc18e66b263a",
   "metadata": {},
   "source": [
    "Plot the evolution of the KL divergence"
   ]
  },
  {
   "cell_type": "code",
   "execution_count": 10,
   "id": "3d6e0d15-b000-4cb3-8b68-3320ce6469fc",
   "metadata": {},
   "outputs": [
    {
     "data": {
      "image/png": "[encoded data removed]",
      "text/plain": [
       "<Figure size 400x300 with 1 Axes>"
      ]
     },
     "metadata": {},
     "output_type": "display_data"
    }
   ],
   "source": [
    "steps = np.arange(0,N+1,1)\n",
    "KL = []\n",
    "\n",
    "with open(new_filepath, 'r') as f:\n",
    "    for line in f:\n",
    "        KL.append(float(line.strip()))\n",
    "\n",
    "steps = np.arange(0,len(KL),1)\n",
    "\n",
    "# Name formatting\n",
    "parts = filename_no_extension.split(\"_\")\n",
    "raw_function = parts[0]\n",
    "\n",
    "# Plot formatting\n",
    "function = raw_function.replace(\"**\", \"^\").replace(\"*\", \"\")\n",
    "\n",
    "nvar = parts[1].replace(\"nv\", \"\")  # Número de variables\n",
    "nparam = parts[2].replace(\"np\", \"\")  # Número de parámetros\n",
    "mean = parts[3].replace(\"mean\", \"\")  # Media\n",
    "stddev = parts[4].replace(\"stddev\", \"\")  # Desviación estándar\n",
    "\n",
    "# LaTeX format title\n",
    "\n",
    "title = rf\"$\\text{{KL Divergence evolution of }} {function}$ \" + \"\\n\" \\\n",
    "        rf\"$n_{{\\text{{variables}}}}={nvar}, n_{{\\text{{parameters}}}}={nparam}, \" \\\n",
    "        rf\"\\epsilon \\sim \\mathcal{{N}}({mean}, {stddev})$\"\n",
    "\n",
    "#title = \"KL Divergence evolution of tree expressions generated with only the prior\"\n",
    "output_folder = \"./KL/Figures/GAUSSIAN STEPS/\"\n",
    "output_filename = f\"KL_evolution_{filename_no_extension}_GAUSSIAN_STEPS.png\"\n",
    "output_path = os.path.join(output_folder, output_filename)\n",
    "\n",
    "plt.figure(figsize = (4,3))\n",
    "plt.plot(steps, KL, label=\"KL Divergence\", color=\"blue\")\n",
    "plt.xlabel(\"Steps\", fontsize=14)\n",
    "plt.ylabel(\"KL\", fontsize=14)\n",
    "plt.title(title, fontsize=16, pad=20)\n",
    "plt.legend(loc=\"best\", fontsize=10)\n",
    "plt.grid(True)\n",
    "plt.savefig(output_path, dpi = 150, bbox_inches = 'tight')\n",
    "\n",
    "\n",
    "plt.show()\n"
   ]
  },
  {
   "cell_type": "code",
   "execution_count": 11,
   "id": "e731a543-e26c-46ce-8385-13dfea73f90c",
   "metadata": {},
   "outputs": [
    {
     "data": {
      "text/plain": [
       "{'_a0_': 0.0396857594747342,\n",
       " '_a1_': 0.0396857594747342,\n",
       " '_a2_': 0.0396857594747342,\n",
       " '_a3_': 0.03916708180355304,\n",
       " '_a4_': 0.0396857594747342,\n",
       " '_a5_': 0.0396857594747342,\n",
       " '_a6_': 0.03929226567243237,\n",
       " '_a7_': 0.03873059857690154,\n",
       " '_a8_': 0.0396857594747342,\n",
       " '_a9_': 0.03652698809931202,\n",
       " '_a10_': 0.039281976792146074,\n",
       " '_a11_': 0.0396857594747342,\n",
       " '_a12_': 0.0396857594747342,\n",
       " 'x': 0.030431679892387604,\n",
       " 'z': 0.02188327106474601,\n",
       " 'sin': 0.02579574365857722,\n",
       " 'cos': 0.02579574365857722,\n",
       " 'tan': 0.02579574365857722,\n",
       " 'exp': 0.02579574365857722,\n",
       " 'log': 0.021209445377046315,\n",
       " 'sinh': 0.02579574365857722,\n",
       " 'cosh': 0.021557799869414692,\n",
       " 'tanh': 0.02579574365857722,\n",
       " 'pow2': 0.020516608431995192,\n",
       " 'pow3': 0.016906283607801578,\n",
       " 'abs': 0.02579574365857722,\n",
       " 'sqrt': 0.02579574365857722,\n",
       " 'fac': 0.024512588269218618,\n",
       " '-': 0.02579574365857722,\n",
       " '+': 0.02579574365857722,\n",
       " '*': 0.022948412842245126,\n",
       " '/': 0.02579574365857722,\n",
       " '**': 0.02579574365857722}"
      ]
     },
     "execution_count": 11,
     "metadata": {},
     "output_type": "execute_result"
    }
   ],
   "source": [
    "Tree_prob.root.prob_list"
   ]
  },
  {
   "cell_type": "code",
   "execution_count": null,
   "id": "56e88a7b-dd73-498a-b83a-83ea4bdb5cda",
   "metadata": {},
   "outputs": [],
   "source": []
  }
 ],
 "metadata": {
  "kernelspec": {
   "display_name": "Python 3 (ipykernel)",
   "language": "python",
   "name": "python3"
  },
  "language_info": {
   "codemirror_mode": {
    "name": "ipython",
    "version": 3
   },
   "file_extension": ".py",
   "mimetype": "text/x-python",
   "name": "python",
   "nbconvert_exporter": "python",
   "pygments_lexer": "ipython3",
   "version": "3.10.12"
  }
 },
 "nbformat": 4,
 "nbformat_minor": 5
}
