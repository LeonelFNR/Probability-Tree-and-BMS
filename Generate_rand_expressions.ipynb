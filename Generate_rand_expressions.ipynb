{
 "cells": [
  {
   "cell_type": "code",
   "execution_count": 1,
   "id": "7192730a-2c2f-4b12-991f-0604ab2eabe1",
   "metadata": {},
   "outputs": [],
   "source": [
    "import sys\n",
    "import numpy as np \n",
    "import pandas as pd\n",
    "import warnings\n",
    "import sympy \n",
    "import matplotlib as plt\n",
    "warnings.filterwarnings('ignore')\n",
    "\n",
    "from copy import deepcopy\n",
    "from ipywidgets import IntProgress\n",
    "from IPython.display import display\n",
    "\n",
    "sys.path.append('./')\n",
    "sys.path.append('./Prior/')\n",
    "from mcmc import *\n",
    "from parallel import *\n",
    "from fit_prior import read_prior_par\n",
    "\n",
    "#File related libraries\n",
    "from expression_writter import *\n",
    "\n",
    "#Writing files libraries\n",
    "import re\n",
    "from file_creator import *\n",
    "import os\n",
    "import pickle"
   ]
  },
  {
   "cell_type": "code",
   "execution_count": 32,
   "id": "5a6b9bbe-edb9-421a-83d8-6ef28e698e9e",
   "metadata": {},
   "outputs": [],
   "source": [
    "path = \"./KL/Probabilty_Trees/GAUSSIAN STEPS/sin(1.5*x)*cos(0.5*z)_nv2_np20_mean0_stddev0.1.txt_GAUSSIAN_STEPS\""
   ]
  },
  {
   "cell_type": "code",
   "execution_count": 33,
   "id": "8eba68f8-6365-4a10-9088-c676dc65037c",
   "metadata": {},
   "outputs": [],
   "source": [
    "with open(path, 'rb') as f:\n",
    "    var1 = pickle.load(f)"
   ]
  },
  {
   "cell_type": "code",
   "execution_count": 34,
   "id": "81201058-a5cc-436e-96e1-b1a456cf65d4",
   "metadata": {},
   "outputs": [
    {
     "data": {
      "text/plain": [
       "'tanh(_a4_)'"
      ]
     },
     "execution_count": 34,
     "metadata": {},
     "output_type": "execute_result"
    }
   ],
   "source": [
    "var1.rand_func(show_pow = True)"
   ]
  },
  {
   "cell_type": "code",
   "execution_count": 35,
   "id": "b62db700-141e-4d8b-9168-8df0a2921e2a",
   "metadata": {},
   "outputs": [],
   "source": [
    "functionFolder = './KL/Generated_expressions/GAUSSIAN STEPS/'\n",
    "newpathname = functionFolder + os.path.basename(path) + \"_Expressions_v2\""
   ]
  },
  {
   "cell_type": "code",
   "execution_count": 36,
   "id": "3d622fe8-1d97-4d04-97ac-3ad602009fda",
   "metadata": {},
   "outputs": [],
   "source": [
    "N = 10000\n",
    "\n",
    "with open(newpathname, 'w') as f:\n",
    "    for i in range(0,N):\n",
    "        f.write(var1.rand_func(show_pow = True) +\"\\n\")"
   ]
  },
  {
   "cell_type": "code",
   "execution_count": 3,
   "id": "37892793-ac94-4309-ade7-1340e0165be9",
   "metadata": {},
   "outputs": [],
   "source": [
    "XLABS = ['x']\n",
    "parameters = ['_a%d_' % i for i in range(13)]\n",
    "\n",
    "#creating empty tree and probtree\n",
    "model = Tree(\n",
    "    variables = XLABS,\n",
    "    parameters = parameters,\n",
    "    from_string = 'x',\n",
    "    prior_par= read_prior_par(\"./Prior/final_prior_param_sq.named_equations.nv1.np2.2017-10-18 18:07:35.163458.dat\"),\n",
    ")\n",
    "\n",
    "#Probability tree\n",
    "Arbre =ProbTree(\n",
    "    tree = model,\n",
    "    parameters = parameters\n",
    ") "
   ]
  },
  {
   "cell_type": "code",
   "execution_count": 5,
   "id": "b679742a-194c-49e7-9b98-1d2771aa6aca",
   "metadata": {},
   "outputs": [],
   "source": [
    "N = 10000\n",
    "\n",
    "with open(\"./KL/Generated_expressions/NOU_ARBRE\", 'w') as f:\n",
    "    for i in range(0,N):\n",
    "        f.write(Arbre.rand_func(show_pow = True) +\"\\n\")"
   ]
  },
  {
   "cell_type": "code",
   "execution_count": 12,
   "id": "de05b351-1582-455e-8ccd-d5ea1a8b3ad1",
   "metadata": {},
   "outputs": [],
   "source": [
    "XLABS = ['x','z']\n",
    "parameters = ['_a%d_' % i for i in range(20)]"
   ]
  },
  {
   "cell_type": "code",
   "execution_count": 13,
   "id": "af52dba6-2d25-479d-8373-f9c1d474a780",
   "metadata": {},
   "outputs": [],
   "source": [
    "#creating empty tree and probtree\n",
    "model = Tree(\n",
    "    variables = XLABS,\n",
    "    parameters = parameters,\n",
    ")\n",
    "\n",
    "Arbre_prob = ProbTree(\n",
    "    tree = model,\n",
    ")"
   ]
  },
  {
   "cell_type": "code",
   "execution_count": 14,
   "id": "f783f28d-c422-44c7-9949-2f6ec76e113a",
   "metadata": {},
   "outputs": [],
   "source": [
    "result_set = set()\n",
    "max_set_size = 20000\n",
    "\n",
    "while len(result_set) < max_set_size:\n",
    "    expr = Arbre_prob.rand_func(show_pow=True)\n",
    "    Arbre_prob.tree.build_from_string(expr)\n",
    "    pr = Arbre_prob.pr_tree()\n",
    "    result_set.add((expr, pr))\n",
    "\n",
    "\n",
    "with open(\"./New_Experiment/Generated_expressions_nv2_np20.txt\", 'w') as f:\n",
    "    for expr, pr in result_set:\n",
    "        f.write(f\"{expr}||{pr}\\n\")\n",
    "\n"
   ]
  },
  {
   "cell_type": "code",
   "execution_count": null,
   "id": "5b1686d4-e8d0-4930-a460-9b6bb90adf39",
   "metadata": {},
   "outputs": [],
   "source": []
  }
 ],
 "metadata": {
  "kernelspec": {
   "display_name": "Python 3 (ipykernel)",
   "language": "python",
   "name": "python3"
  },
  "language_info": {
   "codemirror_mode": {
    "name": "ipython",
    "version": 3
   },
   "file_extension": ".py",
   "mimetype": "text/x-python",
   "name": "python",
   "nbconvert_exporter": "python",
   "pygments_lexer": "ipython3",
   "version": "3.10.12"
  }
 },
 "nbformat": 4,
 "nbformat_minor": 5
}
